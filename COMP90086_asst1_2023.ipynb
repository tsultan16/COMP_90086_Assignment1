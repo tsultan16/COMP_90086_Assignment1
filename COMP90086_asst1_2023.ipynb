{
 "cells": [
  {
   "cell_type": "markdown",
   "metadata": {},
   "source": [
    "### The University of Melbourne, School of Computing and Information Systems\n",
    "# COMP90086 Computer Vision, 2023 Semester 2\n",
    "\n",
    "## Assignment 1"
   ]
  },
  {
   "cell_type": "markdown",
   "metadata": {},
   "source": [
    "**Student Name:**    `Tanzid Sultan`\n",
    "\n",
    "**Student ID:**     `1430660`"
   ]
  },
  {
   "cell_type": "markdown",
   "metadata": {},
   "source": [
    "This iPython notebook is a template which you should use for your Assignment 1 submission. This file should be submitted at the **Assignment 1** link on the LMS, along with any images needed to run your code.\n",
    "\n",
    "In addition to this file, you should submit a written report explaining your results at the **Assignment 1** link on the LMS. Please see the assignment specification for details on what must be included in the report for each question.\n",
    "\n",
    "*Adding proper comments to your code is MANDATORY.*"
   ]
  },
  {
   "cell_type": "markdown",
   "metadata": {},
   "source": [
    "### 0. Laplacian pyramid compression\n",
    "You can use the code below to check how much a quantized Laplacian pyramid representation compresses an image."
   ]
  },
  {
   "cell_type": "code",
   "execution_count": null,
   "metadata": {},
   "outputs": [],
   "source": [
    "imSize = 256 # image height/width (assume image is square)\n",
    "bitsPerLevel = [2,3,4,5,6,7,8] # bits used to encode each level of pyramid\n",
    "\n",
    "# Image size before compression, in bits (assume uint8 grayscale)\n",
    "sizeUncompressed = 8 * imSize * imSize\n",
    "print('Uncompressed size = '+str(sizeUncompressed)+' bits')\n",
    "\n",
    "# Image size after compression, in bits\n",
    "sizeCompressed = 0\n",
    "for i in range(len(bitsPerLevel)):\n",
    "    sizeCompressed = sizeCompressed + (bitsPerLevel[i]*(imSize/(pow(2,i)))*(imSize/(pow(2,i))))\n",
    "print('Compressed size = '+str(sizeCompressed)+' bits')\n",
    "\n",
    "print(str(round(100*sizeCompressed/sizeUncompressed))+'% of original')"
   ]
  },
  {
   "cell_type": "markdown",
   "metadata": {},
   "source": [
    "### 1. Laplacian image pyramid"
   ]
  },
  {
   "cell_type": "code",
   "execution_count": null,
   "metadata": {},
   "outputs": [],
   "source": [
    "import numpy as np\n",
    "\n",
    "# Define the filter kernel\n",
    "kernel = (1/256)*np.array([[1, 4, 6, 4, 1],\n",
    "                           [4, 16, 24, 16, 4],\n",
    "                           [6, 24, 36, 24, 6],\n",
    "                           [4, 16, 24, 16, 4],\n",
    "                           [1, 4, 6, 4, 1]])\n",
    "\n",
    "\n"
   ]
  },
  {
   "cell_type": "markdown",
   "metadata": {},
   "source": [
    "### 2. Quantization and compression"
   ]
  },
  {
   "cell_type": "code",
   "execution_count": null,
   "metadata": {},
   "outputs": [],
   "source": []
  },
  {
   "cell_type": "markdown",
   "metadata": {},
   "source": [
    "### 3. Evaluation in the frequency domain"
   ]
  },
  {
   "cell_type": "code",
   "execution_count": null,
   "metadata": {},
   "outputs": [],
   "source": []
  }
 ],
 "metadata": {
  "kernelspec": {
   "display_name": "Python 3",
   "language": "python",
   "name": "python3"
  },
  "language_info": {
   "codemirror_mode": {
    "name": "ipython",
    "version": 3
   },
   "file_extension": ".py",
   "mimetype": "text/x-python",
   "name": "python",
   "nbconvert_exporter": "python",
   "pygments_lexer": "ipython3",
   "version": "3.9.5"
  }
 },
 "nbformat": 4,
 "nbformat_minor": 4
}
